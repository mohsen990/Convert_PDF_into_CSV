{
  "nbformat": 4,
  "nbformat_minor": 0,
  "metadata": {
    "colab": {
      "provenance": [],
      "authorship_tag": "ABX9TyMn+IPB0rIvFIhdLOl/v4ve",
      "include_colab_link": true
    },
    "kernelspec": {
      "name": "python3",
      "display_name": "Python 3"
    },
    "language_info": {
      "name": "python"
    }
  },
  "cells": [
    {
      "cell_type": "markdown",
      "metadata": {
        "id": "view-in-github",
        "colab_type": "text"
      },
      "source": [
        "<a href=\"https://colab.research.google.com/github/mohsen990/Convert_PDF_into_CSV/blob/main/Convert_PDF_into_CSV.ipynb\" target=\"_parent\"><img src=\"https://colab.research.google.com/assets/colab-badge.svg\" alt=\"Open In Colab\"/></a>"
      ]
    },
    {
      "cell_type": "code",
      "execution_count": null,
      "metadata": {
        "colab": {
          "base_uri": "https://localhost:8080/"
        },
        "id": "tSHTMVbuRknr",
        "outputId": "32e38bd1-c645-4741-e7a0-90b217fd1304"
      },
      "outputs": [
        {
          "output_type": "stream",
          "name": "stdout",
          "text": [
            "Requirement already satisfied: PyPDF2 in /usr/local/lib/python3.10/dist-packages (3.0.1)\n",
            "Collecting PyPDF4\n",
            "  Downloading PyPDF4-1.27.0.tar.gz (63 kB)\n",
            "\u001b[2K     \u001b[90m━━━━━━━━━━━━━━━━━━━━━━━━━━━━━━━━━━━━━━━━\u001b[0m \u001b[32m63.9/63.9 kB\u001b[0m \u001b[31m2.4 MB/s\u001b[0m eta \u001b[36m0:00:00\u001b[0m\n",
            "\u001b[?25h  Preparing metadata (setup.py) ... \u001b[?25l\u001b[?25hdone\n",
            "Building wheels for collected packages: PyPDF4\n",
            "  Building wheel for PyPDF4 (setup.py) ... \u001b[?25l\u001b[?25hdone\n",
            "  Created wheel for PyPDF4: filename=PyPDF4-1.27.0-py3-none-any.whl size=61226 sha256=384ef2d6a23e32a22e3544d55f3ebbc7699c332c881ff549a09f3d8a2679b245\n",
            "  Stored in directory: /root/.cache/pip/wheels/83/cc/14/cb307e5c99235c4497c7895cdb60b4f7ba2a738b6a5fc0d423\n",
            "Successfully built PyPDF4\n",
            "Installing collected packages: PyPDF4\n",
            "Successfully installed PyPDF4-1.27.0\n"
          ]
        }
      ],
      "source": [
        "# install PyPDF2\n",
        "!pip install PyPDF2\n",
        "!pip install PyPDF4"
      ]
    },
    {
      "cell_type": "code",
      "source": [
        "# importing all the required modules\n",
        "import PyPDF2\n",
        "import re\n",
        "import pandas as pd\n",
        "\n",
        "# creating a pdf reader object\n",
        "reader = PyPDF2.PdfReader('/content/myPDF.pdf')\n",
        "\n",
        "# print the number of pages in pdf file\n",
        "#print(len(reader.pages))\n",
        "\n",
        "# print the text of the first page\n",
        "texts = []\n",
        "lists =[]\n",
        "for i in  range(len(reader.pages)):\n",
        "    texts.append(reader.pages[i].extract_text() )\n",
        "\n",
        "for text in texts:\n",
        "    text = text.replace('\\t', ' ')\n",
        "    text = text.replace('\\n', ' ')\n",
        "    # Replace dots between numbers with slashes\n",
        "    text = re.sub(r'(?<=\\d)\\.(?=\\d)', '/', text)\n",
        "    text = re.sub(r'\\s+', ' ', text)\n",
        "    text = re.sub(r'\\t+', ' ', text)\n",
        "    lines = text.split('.')\n",
        "    # Process each line\n",
        "    for line in lines:\n",
        "       if(len(line) > 3):\n",
        "           lists.append(line)\n",
        "\n",
        "df = pd.DataFrame({'text': lists})\n",
        "default_value = 'NLSN_Q3_2014_2014-10-23'\n",
        "df['id'] = default_value\n",
        "print(df.head(50))\n",
        "\n",
        "# Save the DataFrame to a CSV file\n",
        "df.to_csv('output.csv', index=False)"
      ],
      "metadata": {
        "colab": {
          "base_uri": "https://localhost:8080/"
        },
        "id": "5l0ipBXyRuzQ",
        "outputId": "4b2863dc-184e-4522-f415-c30ce230ee91"
      },
      "execution_count": null,
      "outputs": [
        {
          "output_type": "stream",
          "name": "stdout",
          "text": [
            "                                                 text                       id\n",
            "0                                           Nielsen N  NLSN_Q3_2014_2014-10-23\n",
            "1    ( NYSE: NLSN ) Q3 2014 Earnings Call October ...  NLSN_Q3_2014_2014-10-23\n",
            "2    White Vanek - Senior Vice President of Invest...  NLSN_Q3_2014_2014-10-23\n",
            "3                                      Bernstein & Co  NLSN_Q3_2014_2014-10-23\n",
            "4                                               , LLC  NLSN_Q3_2014_2014-10-23\n",
            "5                        , Research Division Andrew C  NLSN_Q3_2014_2014-10-23\n",
            "6    Steinerman - JP Morgan Chase & Co, Research D...  NLSN_Q3_2014_2014-10-23\n",
            "7   , Research Division Adrienne Colby - Deutsche ...  NLSN_Q3_2014_2014-10-23\n",
            "8                                          Baird & Co  NLSN_Q3_2014_2014-10-23\n",
            "9    Incorporated, Research Division Toni Kaplan -...  NLSN_Q3_2014_2014-10-23\n",
            "10   Wieser - Pivotal Research Group LLC Manav Pat...  NLSN_Q3_2014_2014-10-23\n",
            "11   My name is Leanne, and I will be your confere...  NLSN_Q3_2014_2014-10-23\n",
            "12   At this time, I would like to welcome everyon...  NLSN_Q3_2014_2014-10-23\n",
            "13   Third Quarter 2014 Earnings Results Conferenc...  NLSN_Q3_2014_2014-10-23\n",
            "14                  [Operator Instructions] Thank you  NLSN_Q3_2014_2014-10-23\n",
            "15   Kate Vanek, Senior Vice President of Investor...  NLSN_Q3_2014_2014-10-23\n",
            "16                                          Kathryn H  NLSN_Q3_2014_2014-10-23\n",
            "17                         White Vanek Thanks so much  NLSN_Q3_2014_2014-10-23\n",
            "18                            Good morning, everybody  NLSN_Q3_2014_2014-10-23\n",
            "19   Thank you for joining us today to discuss Nie...  NLSN_Q3_2014_2014-10-23\n",
            "20   Joining me on today's call from Nielsen is Mi...  NLSN_Q3_2014_2014-10-23\n",
            "21   The slide presentation that we'll use on this...  NLSN_Q3_2014_2014-10-23\n",
            "22                                      com/investors  NLSN_Q3_2014_2014-10-23\n",
            "23   Before we begin our prepared remarks, as alwa...  NLSN_Q3_2014_2014-10-23\n",
            "24   These forward- looking statements may include...  NLSN_Q3_2014_2014-10-23\n",
            "25   Our actual results in future periods may diff...  NLSN_Q3_2014_2014-10-23\n",
            "26   These risks and uncertainties that we believe...  NLSN_Q3_2014_2014-10-23\n",
            "27   For today's call, Mitch will start with comme...  NLSN_Q3_2014_2014-10-23\n",
            "28   Then Jamere will discuss financials and will ...  NLSN_Q3_2014_2014-10-23\n",
            "29   [Operator Instructions] And now to start the ...  NLSN_Q3_2014_2014-10-23\n",
            "30                          Dwight Mitchell Barns Yes  NLSN_Q3_2014_2014-10-23\n",
            "31                                       Thanks, Kate  NLSN_Q3_2014_2014-10-23\n",
            "32                            Good morning, everybody  NLSN_Q3_2014_2014-10-23\n",
            "33                        Thanks for joining the call  NLSN_Q3_2014_2014-10-23\n",
            "34   Jamere and I appreciate the opportunity to up...  NLSN_Q3_2014_2014-10-23\n",
            "35   In the third quarter, we continued along our ...  NLSN_Q3_2014_2014-10-23\n",
            "36   And we continue to move forward with product ...  NLSN_Q3_2014_2014-10-23\n",
            "37   Let's walk through a high-level look at the q...  NLSN_Q3_2014_2014-10-23\n",
            "38                                     First, revenue  NLSN_Q3_2014_2014-10-23\n",
            "39   Revenue grew over 14% on a constant-currency ...  NLSN_Q3_2014_2014-10-23\n",
            "40   Excluding our acquisitions of Arbitron and Ha...  NLSN_Q3_2014_2014-10-23\n",
            "41  Next, adjusted EBITDA was up nearly 20% or 22%...  NLSN_Q3_2014_2014-10-23\n",
            "42   Adjusted net income per share was $0/66, up 3...  NLSN_Q3_2014_2014-10-23\n",
            "43   And our free cash flow of $289 million was up...  NLSN_Q3_2014_2014-10-23\n",
            "44            Turning to 2 additional financial items  NLSN_Q3_2014_2014-10-23\n",
            "45   First, as you saw in our press release this m...  NLSN_Q3_2014_2014-10-23\n",
            "46   We also have approximately $400 million remai...  NLSN_Q3_2014_2014-10-23\n",
            "47   Our overall share repurchase program reflects...  NLSN_Q3_2014_2014-10-23\n",
            "48                               The second, guidance  NLSN_Q3_2014_2014-10-23\n",
            "49   We're on track to achieve the revenue and any...  NLSN_Q3_2014_2014-10-23\n"
          ]
        }
      ]
    }
  ]
}